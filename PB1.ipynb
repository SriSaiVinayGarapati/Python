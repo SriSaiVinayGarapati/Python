{
 "cells": [
  {
   "cell_type": "markdown",
   "id": "b3823d34",
   "metadata": {},
   "source": [
    "# 1. In the below elements which of them are values or an expression? eg:- values can be integer or string and expressions will be mathematical operators.\n",
    "\n",
    "Ans)  \n",
    "\n",
    "*  -> expression\n",
    "\n",
    "'hello' -> value(string)\n",
    "\n",
    "-87.8 -> value(float)\n",
    "\n",
    "- -> expression\n",
    "\n",
    "/ -> expression\n",
    "\n",
    "+ -> expression\n",
    "\n",
    "6 -> value(integer)\n"
   ]
  },
  {
   "cell_type": "markdown",
   "id": "550f7b03",
   "metadata": {},
   "source": [
    "# 2. What is the difference between string and variable?\n",
    "\n",
    "Ans)\n",
    "\n",
    "string is a data type like integer and float etc.. It's a collection of characters which is placed in between either \"\" or''\n",
    "\n",
    "variable is nothing but a name given to a memory location , it's like giving a name for any value to reuse it again."
   ]
  },
  {
   "cell_type": "markdown",
   "id": "1511e5cd",
   "metadata": {},
   "source": [
    "# 3. Describe three different data types.\n",
    "\n",
    "Ans)\n",
    "\n",
    "1)  int -  If a value is said to be of type integer , if it's a numeric value without any decimals.\n",
    "\n",
    "Eg :  1 , 100 ,55 etc...\n",
    "\n",
    "2)  float  - If a value is said to be of type float , if it has decimal values.\n",
    "\n",
    "Eg:  4.8 , 1.0089 etc..\n",
    "\n",
    "3) bool - Boolean values are nothing but it's either true or false , where True represents 1 and False represents 0."
   ]
  },
  {
   "cell_type": "markdown",
   "id": "93aa54a7",
   "metadata": {},
   "source": [
    "# 4. What is an expression made up of? What do all expressions do?\n",
    "\n",
    "Ans) \n",
    "\n",
    "Expression is made up of operators and operands , where operands can be values like int , float and operators are +,-,* etc..\n",
    "Generally expressions are used for evaluation in case of conditonal statements like if else ..based on that we execute certain statements."
   ]
  },
  {
   "cell_type": "markdown",
   "id": "6dd72ab1",
   "metadata": {},
   "source": [
    "# 5. This assignment statements, like spam = 10. What is the difference between an expression and a statement?\n",
    "\n",
    "Ans)\n",
    "\n",
    "Expression evaluate to a value based on the available operators and operands in it , every line in a program is said to be a statement"
   ]
  },
  {
   "cell_type": "markdown",
   "id": "574abe76",
   "metadata": {},
   "source": [
    "# 6. After running the following code, what does the variable bacon contain?\n",
    "# bacon = 22\n",
    "# bacon + 1\n",
    "\n",
    "Ans)\n",
    "\n",
    "After running the above code , the variable bacon contain 22 only because we are not changing bacon value here."
   ]
  },
  {
   "cell_type": "markdown",
   "id": "16f920ae",
   "metadata": {},
   "source": [
    "# 7.What should the values of the following two terms be?\n",
    "\n",
    "Ans)\n",
    "\n",
    "'spam' + 'spamspam' -> 'spamspamspam'\n",
    "\n",
    "'spam'*3 -> 'spamspamspam'"
   ]
  },
  {
   "cell_type": "markdown",
   "id": "dd7368ad",
   "metadata": {},
   "source": [
    "# 8.Why is eggs a valid variable name while 100 is invalid?\n",
    "\n",
    "Ans)  Whenever we declare a variable we need to follow few set of rules as variable can be start with letters or underscore etc.. but cannot start with a number , so as per above rules eggs is a valid variable name and 100 is invalid."
   ]
  },
  {
   "cell_type": "markdown",
   "id": "f874cb91",
   "metadata": {},
   "source": [
    "# 9.What three functions can be used to get the integer, floating-point number, or string version of a value?\n",
    "\n",
    "Ans)  \n",
    "\n",
    "int(value) -> converts to integer value.\n",
    "\n",
    "float(value) -> converts to floating point number.\n",
    "\n",
    "str(value)  -> convert value to a string."
   ]
  },
  {
   "cell_type": "markdown",
   "id": "f910ee74",
   "metadata": {},
   "source": [
    "# 10.Why does this expression cause an error? How can you fix it?\n",
    "\n",
    "\n",
    "Ans) 'I have eaten' + 99 + 'burittos.' \n",
    "\n",
    "The above expression will give error because we are trying to concatenate integer value(99) with string , we need to the integer value to string before concatenating it , so the correct expression is \n",
    "\n",
    "'I have eaten' + str(99) + 'burittos.'"
   ]
  }
 ],
 "metadata": {
  "kernelspec": {
   "display_name": "Python 3 (ipykernel)",
   "language": "python",
   "name": "python3"
  },
  "language_info": {
   "codemirror_mode": {
    "name": "ipython",
    "version": 3
   },
   "file_extension": ".py",
   "mimetype": "text/x-python",
   "name": "python",
   "nbconvert_exporter": "python",
   "pygments_lexer": "ipython3",
   "version": "3.9.13"
  }
 },
 "nbformat": 4,
 "nbformat_minor": 5
}
